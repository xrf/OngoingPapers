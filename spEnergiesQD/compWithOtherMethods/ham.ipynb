{
 "metadata": {
  "name": "ham"
 },
 "nbformat": 3,
 "nbformat_minor": 0,
 "worksheets": [
  {
   "cells": [
    {
     "cell_type": "code",
     "collapsed": false,
     "input": [
      "from sympy import symbols, latex, WildFunction, collect\n",
      "from sympy.physics.secondquant import F, Fd, wicks, AntiSymmetricTensor, substitute_dummies, NO\n",
      "\n",
      "p, q, r, s = symbols(\"p q r s\", dummy=True)\n",
      "t = AntiSymmetricTensor(\"t\", (p,), (q,))\n",
      "v = AntiSymmetricTensor(\"v\", (p, q), (r, s))\n",
      "ham = t*Fd(p)*F(q) + v*Fd(p)*Fd(q)*F(s)*F(r)/4\n",
      "ham_normal = wicks(ham, simplify_kronecker_deltas=True)\n",
      "\n",
      "index_rule = {\n",
      "    \"below\": \"kl\",\n",
      "    \"above\":\"cd\",\n",
      "    \"general\":\"pqrs\"}\n",
      "ham_normal = substitute_dummies(ham_normal,\n",
      "new_indices=True, pretty_indices=index_rule)\n",
      "print latex(ham_normal)\n",
      "E0 = wicks(ham_normal, keep_only_fully=True)\n",
      "ham_normal = ham_normal -E0\n",
      "print latex(ham_normal)"
     ],
     "language": "python",
     "metadata": {},
     "outputs": []
    }
   ],
   "metadata": {}
  }
 ]
}